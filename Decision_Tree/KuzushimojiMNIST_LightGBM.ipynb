{
 "cells": [
  {
   "cell_type": "markdown",
   "metadata": {},
   "source": [
    "# KMNIST classification using LightGBM\n",
    "\n",
    "Solve the MNIST of the crumbling letter as classification problem with LightGBM.  \n",
    "\n",
    "くずし文字のMNISTをLightGBMで分類問題を解く．"
   ]
  },
  {
   "cell_type": "code",
   "execution_count": 1,
   "metadata": {},
   "outputs": [],
   "source": [
    "import numpy as np\n",
    "import pandas as pd\n",
    "import os\n",
    "import matplotlib.pyplot as plt\n",
    "%matplotlib inline\n",
    "import seaborn as sns\n",
    "\n",
    "import lightgbm\n",
    "\n",
    "from sklearn.metrics import confusion_matrix\n",
    "from sklearn.metrics import accuracy_score"
   ]
  },
  {
   "cell_type": "code",
   "execution_count": 2,
   "metadata": {},
   "outputs": [],
   "source": [
    "data_path = '/home/jovyan/data/kuzuhsiji'"
   ]
  },
  {
   "cell_type": "code",
   "execution_count": 3,
   "metadata": {},
   "outputs": [],
   "source": [
    "classes = pd.read_csv(os.path.join(data_path, 'kmnist_classmap.csv'))"
   ]
  },
  {
   "cell_type": "markdown",
   "metadata": {},
   "source": [
    "##### npz方式とは\n",
    "Numpyオブジェクトのファイルフォーマットで， `numpy.load` で読み込める．csvファイルよりメモリ効率が高く読み込み速度も早い．"
   ]
  },
  {
   "cell_type": "code",
   "execution_count": 4,
   "metadata": {},
   "outputs": [],
   "source": [
    "X_train = np.load(os.path.join(data_path, 'kmnist-train-imgs.npz'))['arr_0']\n",
    "y_train = np.load(os.path.join(data_path, 'kmnist-train-labels.npz'))['arr_0']\n",
    "\n",
    "X_test = np.load(os.path.join(data_path, 'kmnist-test-imgs.npz'))['arr_0']\n",
    "y_test = np.load(os.path.join(data_path, 'kmnist-test-labels.npz'))['arr_0']"
   ]
  },
  {
   "cell_type": "code",
   "execution_count": 5,
   "metadata": {},
   "outputs": [
    {
     "name": "stdout",
     "output_type": "stream",
     "text": [
      "(60000, 28, 28)\n",
      "(60000,)\n",
      "(10000, 28, 28)\n",
      "(10000,)\n"
     ]
    }
   ],
   "source": [
    "print(X_train.shape)\n",
    "print(y_train.shape)\n",
    "print(X_test.shape)\n",
    "print(y_test.shape)"
   ]
  },
  {
   "cell_type": "markdown",
   "metadata": {},
   "source": [
    "### Class Labelと平仮名の対応表の作成"
   ]
  },
  {
   "cell_type": "code",
   "execution_count": 6,
   "metadata": {},
   "outputs": [
    {
     "name": "stdout",
     "output_type": "stream",
     "text": [
      "[8 7 0 1 4]\n",
      "   index codepoint char\n",
      "0      0    U+304A    お\n",
      "1      1    U+304D    き\n",
      "2      2    U+3059    す\n",
      "3      3    U+3064    つ\n",
      "4      4    U+306A    な\n",
      "5      5    U+306F    は\n",
      "6      6    U+307E    ま\n",
      "7      7    U+3084    や\n",
      "8      8    U+308C    れ\n",
      "9      9    U+3092    を\n"
     ]
    }
   ],
   "source": [
    "print(y_train[0:5])\n",
    "print(classes)"
   ]
  },
  {
   "cell_type": "code",
   "execution_count": 7,
   "metadata": {},
   "outputs": [],
   "source": [
    "labelindex = classes.set_index('index').to_dict()['char']"
   ]
  },
  {
   "cell_type": "code",
   "execution_count": 8,
   "metadata": {},
   "outputs": [
    {
     "data": {
      "text/plain": [
       "{0: 'お',\n",
       " 1: 'き',\n",
       " 2: 'す',\n",
       " 3: 'つ',\n",
       " 4: 'な',\n",
       " 5: 'は',\n",
       " 6: 'ま',\n",
       " 7: 'や',\n",
       " 8: 'れ',\n",
       " 9: 'を'}"
      ]
     },
     "execution_count": 8,
     "metadata": {},
     "output_type": "execute_result"
    }
   ],
   "source": [
    "labelindex"
   ]
  },
  {
   "cell_type": "code",
   "execution_count": 9,
   "metadata": {},
   "outputs": [
    {
     "name": "stdout",
     "output_type": "stream",
     "text": [
      "255\n",
      "0\n"
     ]
    }
   ],
   "source": [
    "print(X_train.max())\n",
    "print(X_train.min())"
   ]
  },
  {
   "cell_type": "code",
   "execution_count": 10,
   "metadata": {},
   "outputs": [
    {
     "data": {
      "image/png": "[encoded data removed]",
      "text/plain": [
       "<Figure size 432x288 with 1 Axes>"
      ]
     },
     "metadata": {
      "needs_background": "light"
     },
     "output_type": "display_data"
    }
   ],
   "source": [
    "plt.imshow(X_train[423], cmap=plt.cm.gray)\n",
    "plt.show()"
   ]
  },
  {
   "cell_type": "markdown",
   "metadata": {},
   "source": [
    "### Data Preprocessing"
   ]
  },
  {
   "cell_type": "code",
   "execution_count": 11,
   "metadata": {},
   "outputs": [],
   "source": [
    "train_normalization = X_train /255\n",
    "test_normalization = X_test / 255"
   ]
  },
  {
   "cell_type": "code",
   "execution_count": 12,
   "metadata": {},
   "outputs": [],
   "source": [
    "train_format = train_normalization.reshape(train_normalization.shape[0], -1)\n",
    "test_format = test_normalization.reshape(test_normalization.shape[0], -1)"
   ]
  },
  {
   "cell_type": "code",
   "execution_count": 13,
   "metadata": {},
   "outputs": [],
   "source": [
    "lgb_model = lightgbm.LGBMClassifier()"
   ]
  },
  {
   "cell_type": "code",
   "execution_count": null,
   "metadata": {},
   "outputs": [],
   "source": [
    "train_data  = lightgbm.Dataset(train_format, label=y_train)\n",
    "eval_data = lightgbm.Dataset(test_format, label=y_test, reference=train_data)"
   ]
  },
  {
   "cell_type": "code",
   "execution_count": null,
   "metadata": {},
   "outputs": [],
   "source": [
    "params = {\n",
    "    'task': 'train',\n",
    "    'boosting_type': 'gbdt',\n",
    "    'objective': 'multiclass' ,\n",
    "    'num_class': 10,\n",
    "    'verbose': 2\n",
    "}\n",
    "\n",
    "evaluation_results = {}"
   ]
  },
  {
   "cell_type": "code",
   "execution_count": null,
   "metadata": {},
   "outputs": [
    {
     "name": "stdout",
     "output_type": "stream",
     "text": [
      "[20]\tTrain's multi_logloss: 0.710901\tEvaluation's multi_logloss: 1.11132\n",
      "[40]\tTrain's multi_logloss: 0.385774\tEvaluation's multi_logloss: 0.799088\n",
      "[60]\tTrain's multi_logloss: 0.247742\tEvaluation's multi_logloss: 0.645093\n",
      "[80]\tTrain's multi_logloss: 0.170908\tEvaluation's multi_logloss: 0.5548\n",
      "[100]\tTrain's multi_logloss: 0.121317\tEvaluation's multi_logloss: 0.49569\n",
      "[120]\tTrain's multi_logloss: 0.0882061\tEvaluation's multi_logloss: 0.455117\n",
      "[140]\tTrain's multi_logloss: 0.0649866\tEvaluation's multi_logloss: 0.425965\n",
      "[160]\tTrain's multi_logloss: 0.0486745\tEvaluation's multi_logloss: 0.404632\n",
      "[180]\tTrain's multi_logloss: 0.0370292\tEvaluation's multi_logloss: 0.388394\n",
      "[200]\tTrain's multi_logloss: 0.0283597\tEvaluation's multi_logloss: 0.37635\n",
      "[220]\tTrain's multi_logloss: 0.0218241\tEvaluation's multi_logloss: 0.36661\n",
      "[240]\tTrain's multi_logloss: 0.0168417\tEvaluation's multi_logloss: 0.35867\n",
      "[260]\tTrain's multi_logloss: 0.0130929\tEvaluation's multi_logloss: 0.35298\n",
      "[280]\tTrain's multi_logloss: 0.0102063\tEvaluation's multi_logloss: 0.347719\n"
     ]
    }
   ],
   "source": [
    "gbm = lightgbm.train(\n",
    "    params,\n",
    "    train_data,\n",
    "    valid_sets=[train_data, eval_data],\n",
    "    valid_names=['Train', 'Evaluation'],\n",
    "    evals_result=evaluation_results,\n",
    "    num_boost_round=300,\n",
    "    verbose_eval=20\n",
    ")"
   ]
  },
  {
   "cell_type": "code",
   "execution_count": null,
   "metadata": {},
   "outputs": [],
   "source": [
    "train_result = evaluation_results['Train']['multi_logloss']\n",
    "eval_result = evaluation_results['Evaluation']['multi_logloss']"
   ]
  },
  {
   "cell_type": "markdown",
   "metadata": {},
   "source": [
    "### Plot Training Results "
   ]
  },
  {
   "cell_type": "code",
   "execution_count": null,
   "metadata": {},
   "outputs": [],
   "source": [
    "fig = plt.figure(figsize=(10, 5), dpi=200)\n",
    "\n",
    "sns.lineplot(\n",
    "    color='#f44262',\n",
    "    data = np.array(train_result),\n",
    "    label = \"Train Accuracy\"\n",
    ")\n",
    "\n",
    "sns.lineplot(\n",
    "    color='#086039',\n",
    "    data = np.array(eval_result),\n",
    "    label = \"Evaluation Accuracy\"\n",
    ")"
   ]
  }
 ],
 "metadata": {
  "kernelspec": {
   "display_name": "Python 3",
   "language": "python",
   "name": "python3"
  },
  "language_info": {
   "codemirror_mode": {
    "name": "ipython",
    "version": 3
   },
   "file_extension": ".py",
   "mimetype": "text/x-python",
   "name": "python",
   "nbconvert_exporter": "python",
   "pygments_lexer": "ipython3",
   "version": "3.6.7"
  }
 },
 "nbformat": 4,
 "nbformat_minor": 2
}
