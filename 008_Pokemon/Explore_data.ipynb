{
 "cells": [
  {
   "cell_type": "code",
   "execution_count": 1,
   "metadata": {},
   "outputs": [],
   "source": [
    "import pandas as pd\n",
    "import seaborn\n",
    "\n",
    "import os\n",
    "import glob\n",
    "import requests"
   ]
  },
  {
   "cell_type": "code",
   "execution_count": 2,
   "metadata": {},
   "outputs": [],
   "source": [
    "def download_dataset(path='../Data/'):\n",
    "\n",
    "    if os.path.exists(os.path.join(path, 'pokemon_data.json')):\n",
    "        print(\"Json data already exists\")\n",
    "        return\n",
    "    \n",
    "    url = \"https://raw.githubusercontent.com/kotofurumiya/pokemon_data/master/data/pokemon_data.json\"\n",
    "    \n",
    "    try:\n",
    "        r = requests.get(url)\n",
    "        with open(os.path.join(path, 'pokemon_data.json'), mode='w') as f:\n",
    "            f.write(r.text)\n",
    "            \n",
    "    except requests.exceptions.RequestException as err:\n",
    "        print(err)"
   ]
  },
  {
   "cell_type": "code",
   "execution_count": 4,
   "metadata": {},
   "outputs": [
    {
     "name": "stdout",
     "output_type": "stream",
     "text": [
      "Json data already exists\n"
     ]
    }
   ],
   "source": [
    "download_dataset() "
   ]
  },
  {
   "cell_type": "code",
   "execution_count": null,
   "metadata": {},
   "outputs": [],
   "source": []
  }
 ],
 "metadata": {
  "kernelspec": {
   "display_name": "Python 3",
   "language": "python",
   "name": "python3"
  },
  "language_info": {
   "codemirror_mode": {
    "name": "ipython",
    "version": 3
   },
   "file_extension": ".py",
   "mimetype": "text/x-python",
   "name": "python",
   "nbconvert_exporter": "python",
   "pygments_lexer": "ipython3",
   "version": "3.7.4"
  }
 },
 "nbformat": 4,
 "nbformat_minor": 2
}
