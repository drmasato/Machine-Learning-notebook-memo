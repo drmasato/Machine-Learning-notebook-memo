{
 "cells": [
  {
   "cell_type": "code",
   "execution_count": 1,
   "metadata": {},
   "outputs": [],
   "source": [
    "import pandas as pd\n",
    "import numpy as np\n",
    "import os\n",
    "\n",
    "import torch\n",
    "import torch.nn as nn\n",
    "from torch import Tensor\n",
    "import torch.nn.functional as F\n",
    "from torch.autograd import Variable \n",
    "from torch.utils.data import DataLoader\n",
    "from torch.optim.lr_scheduler import ExponentialLR\n",
    "\n",
    "from torchvision.datasets import CIFAR10 \n",
    "import torchvision.transforms as transforms\n",
    "from model import CNNModel "
   ]
  },
  {
   "cell_type": "code",
   "execution_count": 2,
   "metadata": {},
   "outputs": [],
   "source": [
    "cifar_data_root = '/media/analyze/datasets'\n",
    "batch_size = 64\n",
    "epochs = 50"
   ]
  },
  {
   "cell_type": "code",
   "execution_count": 3,
   "metadata": {},
   "outputs": [],
   "source": [
    "transform = transforms.Compose(\n",
    "    [transforms.ToTensor      (),\n",
    "    transforms.Normalize((0.5, 0.5, 0.5), (0.5, 0.5, 0.5 ))]\n",
    ")"
   ]
  },
  {
   "cell_type": "code",
   "execution_count": 4,
   "metadata": {},
   "outputs": [
    {
     "name": "stdout",
     "output_type": "stream",
     "text": [
      "Files already downloaded and verified\n",
      "Files already downloaded and verified\n"
     ]
    }
   ],
   "source": [
    "train_data = CIFAR10(root=cifar_data_root, download=True, train=True, transform=transform) \n",
    "test_data = CIFAR10(root=cifar_data_root, download=True, train=False, transform=transform) \n",
    "train_loader = torch.utils.data.DataLoader(train_data, batch_size=batch_size,\n",
    "                                          shuffle=True, num_workers=4)\n",
    "test_loader = torch.utils.data.DataLoader(test_data, batch_size=batch_size,\n",
    "                                         shuffle=False, num_workers=4)"
   ]
  },
  {
   "cell_type": "code",
   "execution_count": 5,
   "metadata": {},
   "outputs": [],
   "source": [
    "# model = CNNModel().cuda()\n",
    "model = CNNModel()"
   ]
  },
  {
   "cell_type": "code",
   "execution_count": 6,
   "metadata": {},
   "outputs": [],
   "source": [
    "criterion = nn.CrossEntropyLoss()\n",
    "optimizer = torch.optim.Adam(model.parameters(), lr=1e-2)"
   ]
  },
  {
   "cell_type": "code",
   "execution_count": 7,
   "metadata": {},
   "outputs": [],
   "source": [
    "schedular = ExponentialLR(optimizer, gamma=0.95)"
   ]
  },
  {
   "cell_type": "code",
   "execution_count": 8,
   "metadata": {},
   "outputs": [
    {
     "name": "stderr",
     "output_type": "stream",
     "text": [
      "/home/sasatani/PycharmProjects/Machine-Learning/GradCam/model.py:31: UserWarning: Implicit dimension choice for log_softmax has been deprecated. Change the call to include dim=X as an argument.\n",
      "  out = F.log_softmax(out)\n"
     ]
    },
    {
     "name": "stdout",
     "output_type": "stream",
     "text": [
      "1 epoch: Loss 3.867539282040218, Accuracy 0.33662\n",
      "2 epoch: Loss 3.627013449778642, Accuracy 0.40528\n",
      "3 epoch: Loss 3.565547266884533, Accuracy 0.42422\n",
      "4 epoch: Loss 3.532533337393075, Accuracy 0.43336\n",
      "5 epoch: Loss 3.505870689211599, Accuracy 0.43864\n",
      "6 epoch: Loss 3.493905793370493, Accuracy 0.44396\n",
      "7 epoch: Loss 3.4730921823655247, Accuracy 0.44588\n",
      "8 epoch: Loss 3.4627538178582937, Accuracy 0.4504\n",
      "9 epoch: Loss 3.4568285734757134, Accuracy 0.45232\n",
      "10 epoch: Loss 3.439784183526588, Accuracy 0.4564\n",
      "11 epoch: Loss 3.432337777084097, Accuracy 0.4582\n",
      "12 epoch: Loss 3.416365673932273, Accuracy 0.46224\n",
      "13 epoch: Loss 3.4096315440619387, Accuracy 0.46378\n",
      "14 epoch: Loss 3.4018698266095213, Accuracy 0.46734\n",
      "15 epoch: Loss 3.3972713889368356, Accuracy 0.46596\n",
      "16 epoch: Loss 3.3859279271586775, Accuracy 0.4708\n",
      "17 epoch: Loss 3.384389982961328, Accuracy 0.4718\n",
      "18 epoch: Loss 3.3768893745549193, Accuracy 0.47496\n",
      "19 epoch: Loss 3.36584093015822, Accuracy 0.47632\n",
      "20 epoch: Loss 3.3597218645808034, Accuracy 0.47866\n",
      "21 epoch: Loss 3.3530761315999436, Accuracy 0.48096\n",
      "22 epoch: Loss 3.347663884577544, Accuracy 0.48122\n",
      "23 epoch: Loss 3.343787342538614, Accuracy 0.4828\n",
      "24 epoch: Loss 3.338513844915668, Accuracy 0.48354\n",
      "25 epoch: Loss 3.334591829868229, Accuracy 0.48542\n",
      "26 epoch: Loss 3.3277087812228583, Accuracy 0.48672\n",
      "27 epoch: Loss 3.322739119572408, Accuracy 0.4883\n",
      "28 epoch: Loss 3.3201770024836215, Accuracy 0.49046\n",
      "29 epoch: Loss 3.316789237739485, Accuracy 0.48944\n",
      "30 epoch: Loss 3.310714856133132, Accuracy 0.49134\n",
      "31 epoch: Loss 3.3107916891117535, Accuracy 0.49234\n",
      "32 epoch: Loss 3.3065775227363763, Accuracy 0.49368\n",
      "33 epoch: Loss 3.3013125749500207, Accuracy 0.4946\n",
      "34 epoch: Loss 3.3011904586001735, Accuracy 0.4951\n",
      "35 epoch: Loss 3.293256975500785, Accuracy 0.4959\n",
      "36 epoch: Loss 3.2921184042225713, Accuracy 0.49726\n",
      "37 epoch: Loss 3.289526761340363, Accuracy 0.4977\n",
      "38 epoch: Loss 3.2870427674954503, Accuracy 0.49836\n",
      "39 epoch: Loss 3.2833515335531795, Accuracy 0.49856\n",
      "40 epoch: Loss 3.2828065806337636, Accuracy 0.49852\n",
      "41 epoch: Loss 3.28102447279274, Accuracy 0.49976\n",
      "42 epoch: Loss 3.274495036248356, Accuracy 0.501\n",
      "43 epoch: Loss 3.274386319510467, Accuracy 0.50232\n",
      "44 epoch: Loss 3.2721875000487812, Accuracy 0.50204\n",
      "45 epoch: Loss 3.270295335051349, Accuracy 0.5044\n",
      "46 epoch: Loss 3.2690694197974244, Accuracy 0.50326\n",
      "47 epoch: Loss 3.268909612427587, Accuracy 0.50494\n",
      "48 epoch: Loss 3.264177643429593, Accuracy 0.50514\n",
      "49 epoch: Loss 3.2645370291017204, Accuracy 0.5054\n",
      "50 epoch: Loss 3.2614641381651546, Accuracy 0.50534\n"
     ]
    }
   ],
   "source": [
    "for epoch in range(epochs):\n",
    "    \n",
    "    schedular.step()\n",
    "    \n",
    "    epoch_loss =  0\n",
    "    correct = 0\n",
    "    total = 0\n",
    "    for i, samples in enumerate(train_loader):\n",
    "        data, labels = samples\n",
    "        \n",
    "#         data = data.cuda()\n",
    "#         labels = labels.cuda()\n",
    "        \n",
    "        optimizer.zero_grad()\n",
    "        \n",
    "        outputs = model(data)\n",
    "        loss = criterion(outputs, labels) \n",
    "        epoch_loss += loss.item()\n",
    "        \n",
    "        predicted = outputs.max(1, keepdim=True)[1]\n",
    "        correct += predicted.eq(labels.view_as(predicted)).sum().item()\n",
    "        total += labels.size(0)\n",
    "        \n",
    "        loss.backward()\n",
    "        optimizer.step()\n",
    "    print('{} epoch: Loss {}, Accuracy {}'.format((epoch+1),\n",
    "                               epoch_loss / len(train_loader),\n",
    "                               correct / total\n",
    "                               ))"
   ]
  },
  {
   "cell_type": "markdown",
   "metadata": {},
   "source": [
    "##  GradCAM"
   ]
  },
  {
   "cell_type": "code",
   "execution_count": 9,
   "metadata": {},
   "outputs": [],
   "source": [
    "import pandas as pd\n",
    "import os\n",
    "import numpy as np\n",
    "from PIL import Image\n",
    "import matplotlib.pyplot as plt\n",
    "import sys"
   ]
  },
  {
   "cell_type": "code",
   "execution_count": 10,
   "metadata": {},
   "outputs": [],
   "source": [
    "class Flatten(nn.Module):\n",
    "    def __init__(self):\n",
    "        super(Flatten, self).__init__()\n",
    "    \n",
    "    def forward(self, x):\n",
    "        return x.view(x.size(0), -1)"
   ]
  },
  {
   "cell_type": "code",
   "execution_count": 11,
   "metadata": {},
   "outputs": [
    {
     "data": {
      "text/plain": [
       "CNNModel(\n",
       "  (conv1): Conv2d(3, 64, kernel_size=(2, 2), stride=(1, 1))\n",
       "  (pool1): MaxPool2d(kernel_size=3, stride=3, padding=0, dilation=1, ceil_mode=False)\n",
       "  (conv2): Conv2d(64, 32, kernel_size=(2, 2), stride=(1, 1))\n",
       "  (pool2): MaxPool2d(kernel_size=2, stride=2, padding=0, dilation=1, ceil_mode=False)\n",
       "  (fc1): Linear(in_features=512, out_features=3000, bias=True)\n",
       "  (fc2): Linear(in_features=3000, out_features=10, bias=True)\n",
       ")"
      ]
     },
     "execution_count": 11,
     "metadata": {},
     "output_type": "execute_result"
    }
   ],
   "source": [
    "model.cpu()"
   ]
  },
  {
   "cell_type": "code",
   "execution_count": 12,
   "metadata": {},
   "outputs": [],
   "source": [
    "feature_fn = torch.nn.Sequential(*list(model.children())[:-2]).cpu()\n",
    "classfier_fn = torch.nn.Sequential(*(list(model.children())[-2:-1] + [Flatten()]\n",
    "                                    + list(model.children())[-1:]\n",
    "                                    )).cpu()"
   ]
  },
  {
   "cell_type": "code",
   "execution_count": 13,
   "metadata": {},
   "outputs": [],
   "source": [
    "def GradCam(img, c, feature_fn, classifier_fn):\n",
    "    feats = feature_fn(img.cpu())\n",
    "    _, N, H, W = feats.size()\n",
    "    out = classifier_fn(feats.view(feats.size(0), -1))\n",
    "    c_score = out[0, c]\n",
    "    print(c_score)\n",
    "    grads = torch.autograd.grad(c_score, feats)\n",
    "    w = grads[0][0].mean(-1).mean(-1)\n",
    "    sal = torch.matmul(w, feats.view(N, H*W))\n",
    "    sal = F.relu(sal)\n",
    "    sal = sal.view(H, W).cpu().detach().numpy()\n",
    "    sal = np.maximum(sal, 0)\n",
    "    return sal"
   ]
  },
  {
   "cell_type": "code",
   "execution_count": 14,
   "metadata": {},
   "outputs": [],
   "source": [
    "input_index = 36\n",
    "input_data = test_loader.dataset[input_index][0]\n",
    "input_data = input_data.view(1, input_data.shape[0], input_data.shape[1], input_data.shape[2]).cpu()"
   ]
  },
  {
   "cell_type": "code",
   "execution_count": 15,
   "metadata": {},
   "outputs": [
    {
     "name": "stderr",
     "output_type": "stream",
     "text": [
      "/home/sasatani/PycharmProjects/Machine-Learning/GradCam/model.py:31: UserWarning: Implicit dimension choice for log_softmax has been deprecated. Change the call to include dim=X as an argument.\n",
      "  out = F.log_softmax(out)\n"
     ]
    }
   ],
   "source": [
    "pp, cc = torch.topk(nn.Softmax(dim=1)(model(input_data)), 2)"
   ]
  },
  {
   "cell_type": "code",
   "execution_count": 16,
   "metadata": {},
   "outputs": [
    {
     "name": "stdout",
     "output_type": "stream",
     "text": [
      "tensor(-1.3976, grad_fn=<SelectBackward>)\n"
     ]
    }
   ],
   "source": [
    "sal = GradCam(input_data.cpu(), cc[0][0], feature_fn.cpu(), classfier_fn.cpu())"
   ]
  },
  {
   "cell_type": "code",
   "execution_count": 17,
   "metadata": {},
   "outputs": [],
   "source": [
    "img = input_data.permute(0, 2, 3, 1).view(input_data.shape[2], input_data.shape[3], input_data.shape[1]).cpu().numpy()"
   ]
  },
  {
   "cell_type": "code",
   "execution_count": 18,
   "metadata": {},
   "outputs": [],
   "source": [
    "img_sal = Image.fromarray(sal).resize(img.shape[0:2], resample=Image.LINEAR)"
   ]
  },
  {
   "cell_type": "code",
   "execution_count": 19,
   "metadata": {},
   "outputs": [
    {
     "name": "stderr",
     "output_type": "stream",
     "text": [
      "Clipping input data to the valid range for imshow with RGB data ([0..1] for floats or [0..255] for integers).\n"
     ]
    },
    {
     "data": {
      "text/plain": [
       "<matplotlib.colorbar.Colorbar at 0x7fe2884367f0>"
      ]
     },
     "execution_count": 19,
     "metadata": {},
     "output_type": "execute_result"
    },
    {
     "data": {
      "image/png": "[encoded data removed]",
      "text/plain": [
       "<Figure size 432x288 with 2 Axes>"
      ]
     },
     "metadata": {},
     "output_type": "display_data"
    }
   ],
   "source": [
    "plt.imshow(img)\n",
    "plt.imshow(np.array(img_sal), alpha=0.5, cmap=\"jet\")\n",
    "plt.colorbar()"
   ]
  },
  {
   "cell_type": "code",
   "execution_count": 20,
   "metadata": {},
   "outputs": [
    {
     "name": "stderr",
     "output_type": "stream",
     "text": [
      "Clipping input data to the valid range for imshow with RGB data ([0..1] for floats or [0..255] for integers).\n"
     ]
    },
    {
     "data": {
      "text/plain": [
       "<matplotlib.image.AxesImage at 0x7fe2883b4710>"
      ]
     },
     "execution_count": 20,
     "metadata": {},
     "output_type": "execute_result"
    },
    {
     "data": {
      "image/png": "[encoded data removed]",
      "text/plain": [
       "<Figure size 432x288 with 1 Axes>"
      ]
     },
     "metadata": {},
     "output_type": "display_data"
    }
   ],
   "source": [
    "plt.imshow(img)"
   ]
  },
  {
   "cell_type": "code",
   "execution_count": 21,
   "metadata": {},
   "outputs": [
    {
     "data": {
      "text/plain": [
       "tensor([[0.5971, 0.1389]], grad_fn=<TopkBackward>)"
      ]
     },
     "execution_count": 21,
     "metadata": {},
     "output_type": "execute_result"
    }
   ],
   "source": [
    "pp"
   ]
  },
  {
   "cell_type": "code",
   "execution_count": 22,
   "metadata": {},
   "outputs": [
    {
     "data": {
      "text/plain": [
       "tensor([[5, 3]])"
      ]
     },
     "execution_count": 22,
     "metadata": {},
     "output_type": "execute_result"
    }
   ],
   "source": [
    "cc"
   ]
  },
  {
   "cell_type": "code",
   "execution_count": null,
   "metadata": {},
   "outputs": [],
   "source": [
    " "
   ]
  }
 ],
 "metadata": {
  "kernelspec": {
   "display_name": "Python 3",
   "language": "python",
   "name": "python3"
  },
  "language_info": {
   "codemirror_mode": {
    "name": "ipython",
    "version": 3
   },
   "file_extension": ".py",
   "mimetype": "text/x-python",
   "name": "python",
   "nbconvert_exporter": "python",
   "pygments_lexer": "ipython3",
   "version": "3.5.2"
  }
 },
 "nbformat": 4,
 "nbformat_minor": 2
}
