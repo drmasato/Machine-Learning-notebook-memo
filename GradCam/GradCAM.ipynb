{
 "cells": [
  {
   "cell_type": "code",
   "execution_count": 1,
   "metadata": {},
   "outputs": [],
   "source": [
    "import pandas as pd\n",
    "import numpy as np\n",
    "import os\n",
    "\n",
    "import torch\n",
    "import torch.nn as nn\n",
    "from torch import Tensor\n",
    "import torch.nn.functional as F\n",
    "from torch.autograd import Variable \n",
    "from torch.utils.data import DataLoader\n",
    "from torch.optim.lr_scheduler import ExponentialLR\n",
    "\n",
    "from torchvision.datasets import CIFAR10 \n",
    "import torchvision.transforms as transforms\n",
    "from model import CNNModel "
   ]
  },
  {
   "cell_type": "code",
   "execution_count": 2,
   "metadata": {},
   "outputs": [],
   "source": [
    "device = torch.device(\"cuda\" if torch.cuda.is_available() else \"cpu\")"
   ]
  },
  {
   "cell_type": "code",
   "execution_count": 3,
   "metadata": {},
   "outputs": [],
   "source": [
    "cifar_data_root = '/media/analyze/datasets'\n",
    "batch_size = 64\n",
    "epochs = 5"
   ]
  },
  {
   "cell_type": "code",
   "execution_count": 4,
   "metadata": {},
   "outputs": [],
   "source": [
    "transform = transforms.Compose(\n",
    "    [transforms.ToTensor      (),\n",
    "    transforms.Normalize((0.5, 0.5, 0.5), (0.5, 0.5, 0.5 ))]\n",
    ")"
   ]
  },
  {
   "cell_type": "code",
   "execution_count": 5,
   "metadata": {},
   "outputs": [
    {
     "name": "stdout",
     "output_type": "stream",
     "text": [
      "Files already downloaded and verified\n",
      "Files already downloaded and verified\n"
     ]
    }
   ],
   "source": [
    "train_data = CIFAR10(root=cifar_data_root, download=True, train=True, transform=transform) \n",
    "test_data = CIFAR10(root=cifar_data_root, download=True, train=False, transform=transform) \n",
    "train_loader = torch.utils.data.DataLoader(train_data, batch_size=batch_size,\n",
    "                                          shuffle=True, num_workers=4)\n",
    "test_loader = torch.utils.data.DataLoader(test_data, batch_size=batch_size,\n",
    "                                         shuffle=False, num_workers=4)"
   ]
  },
  {
   "cell_type": "code",
   "execution_count": 6,
   "metadata": {},
   "outputs": [],
   "source": [
    "# model = CNNModel().cuda()\n",
    "model = CNNModel().to(device)"
   ]
  },
  {
   "cell_type": "code",
   "execution_count": 7,
   "metadata": {},
   "outputs": [],
   "source": [
    "criterion = nn.CrossEntropyLoss()\n",
    "optimizer = torch.optim.Adam(model.parameters(), lr=1e-2)"
   ]
  },
  {
   "cell_type": "code",
   "execution_count": 8,
   "metadata": {},
   "outputs": [],
   "source": [
    "schedular = ExponentialLR(optimizer, gamma=0.95)"
   ]
  },
  {
   "cell_type": "code",
   "execution_count": 9,
   "metadata": {},
   "outputs": [
    {
     "name": "stderr",
     "output_type": "stream",
     "text": [
      "/home/sasatani/PycharmProjects/Machine-Learning/GradCam/model.py:31: UserWarning: Implicit dimension choice for log_softmax has been deprecated. Change the call to include dim=X as an argument.\n",
      "  out = F.log_softmax(out)\n"
     ]
    },
    {
     "name": "stdout",
     "output_type": "stream",
     "text": [
      "1 epoch: Loss 2.3688784395642295, Accuracy 0.42606\n",
      "2 epoch: Loss 2.0338397939186876, Accuracy 0.5248\n",
      "3 epoch: Loss 1.9608795632181875, Accuracy 0.5432\n",
      "4 epoch: Loss 1.9318449032276184, Accuracy 0.55496\n",
      "5 epoch: Loss 1.8990532457066314, Accuracy 0.56376\n"
     ]
    }
   ],
   "source": [
    "for epoch in range(epochs):\n",
    "    \n",
    "    schedular.step()\n",
    "    \n",
    "    epoch_loss =  0\n",
    "    correct = 0\n",
    "    total = 0\n",
    "    for i, samples in enumerate(train_loader):\n",
    "        data, labels = samples\n",
    "        \n",
    "        data = data.to(device)\n",
    "        labels = labels.to(device)\n",
    "        \n",
    "        optimizer.zero_grad()\n",
    "        \n",
    "        outputs = model(data)\n",
    "        loss = criterion(outputs, labels) \n",
    "        epoch_loss += loss.item()\n",
    "        \n",
    "        predicted = outputs.max(1, keepdim=True)[1]\n",
    "        correct += predicted.eq(labels.view_as(predicted)).sum().item()\n",
    "        total += labels.size(0)\n",
    "        \n",
    "        loss.backward()\n",
    "        optimizer.step()\n",
    "    print('{} epoch: Loss {}, Accuracy {}'.format((epoch+1),\n",
    "                               epoch_loss / len(train_loader),\n",
    "                               correct / total\n",
    "                               ))"
   ]
  },
  {
   "cell_type": "markdown",
   "metadata": {},
   "source": [
    "##  GradCAM"
   ]
  },
  {
   "cell_type": "code",
   "execution_count": 10,
   "metadata": {},
   "outputs": [],
   "source": [
    "import pandas as pd\n",
    "import os\n",
    "import numpy as np\n",
    "from PIL import Image\n",
    "import matplotlib.pyplot as plt\n",
    "import sys"
   ]
  },
  {
   "cell_type": "code",
   "execution_count": 11,
   "metadata": {},
   "outputs": [],
   "source": [
    "# device = \"cpu\""
   ]
  },
  {
   "cell_type": "code",
   "execution_count": 12,
   "metadata": {},
   "outputs": [],
   "source": [
    "class Flatten(nn.Module):\n",
    "    def __init__(self):\n",
    "        super(Flatten, self).__init__()\n",
    "    \n",
    "    def forward(self, x):\n",
    "        return x.view(x.size(0), -1)"
   ]
  },
  {
   "cell_type": "code",
   "execution_count": 13,
   "metadata": {},
   "outputs": [],
   "source": [
    "feature_fn = torch.nn.Sequential(*list(model.children())[:-2]).to(device)\n",
    "classfier_fn = torch.nn.Sequential(*(list(model.children())[-2:-1] + [Flatten()]\n",
    "                                    + list(model.children())[-1:]\n",
    "                                    )).to(device)"
   ]
  },
  {
   "cell_type": "code",
   "execution_count": 14,
   "metadata": {},
   "outputs": [],
   "source": [
    "def GradCam(img, c, feature_fn, classifier_fn):\n",
    "    feats = feature_fn(img.to(device))\n",
    "    _, N, H, W = feats.size()\n",
    "    out = classifier_fn(feats.view(feats.size(0), -1))\n",
    "    c_score = out[0, c]\n",
    "    print(c_score)\n",
    "    grads = torch.autograd.grad(c_score, feats)\n",
    "    w = grads[0][0].mean(-1).mean(-1)\n",
    "    sal = torch.matmul(w, feats.view(N, H*W))\n",
    "    sal = F.relu(sal)\n",
    "    sal = sal.view(H, W).cpu().detach().numpy()\n",
    "    sal = np.maximum(sal, 0)\n",
    "    return sal, out, c_score, feats, grads, w"
   ]
  },
  {
   "cell_type": "code",
   "execution_count": 71,
   "metadata": {},
   "outputs": [],
   "source": [
    "input_index = 2\n",
    "input_data = test_loader.dataset[input_index][0]\n",
    "input_data = input_data.view(1, input_data.shape[0], input_data.shape[1], input_data.shape[2]).to(device)"
   ]
  },
  {
   "cell_type": "code",
   "execution_count": 72,
   "metadata": {},
   "outputs": [
    {
     "name": "stderr",
     "output_type": "stream",
     "text": [
      "/home/sasatani/PycharmProjects/Machine-Learning/GradCam/model.py:31: UserWarning: Implicit dimension choice for log_softmax has been deprecated. Change the call to include dim=X as an argument.\n",
      "  out = F.log_softmax(out)\n"
     ]
    }
   ],
   "source": [
    "pp, cc = torch.topk(nn.Softmax(dim=1)(model(input_data)), 2) "
   ]
  },
  {
   "cell_type": "code",
   "execution_count": 73,
   "metadata": {},
   "outputs": [
    {
     "name": "stdout",
     "output_type": "stream",
     "text": [
      "tensor(31.0311, device='cuda:0', grad_fn=<SelectBackward>)\n"
     ]
    }
   ],
   "source": [
    "sal, out, c_score, feats, grads, w = GradCam(input_data, cc[0][0], feature_fn, classfier_fn)"
   ]
  },
  {
   "cell_type": "code",
   "execution_count": 74,
   "metadata": {},
   "outputs": [],
   "source": [
    "img = input_data.permute(0, 2, 3, 1).view(input_data.shape[2], input_data.shape[3], input_data.shape[1]).cpu().numpy()"
   ]
  },
  {
   "cell_type": "code",
   "execution_count": 75,
   "metadata": {},
   "outputs": [],
   "source": [
    "img_sal = Image.fromarray(sal).resize(img.shape[0:2], resample=Image.LINEAR)"
   ]
  },
  {
   "cell_type": "code",
   "execution_count": 76,
   "metadata": {},
   "outputs": [
    {
     "name": "stderr",
     "output_type": "stream",
     "text": [
      "Clipping input data to the valid range for imshow with RGB data ([0..1] for floats or [0..255] for integers).\n"
     ]
    },
    {
     "data": {
      "text/plain": [
       "<matplotlib.colorbar.Colorbar at 0x7fb8b445a550>"
      ]
     },
     "execution_count": 76,
     "metadata": {},
     "output_type": "execute_result"
    },
    {
     "data": {
      "image/png": "[encoded data removed]",
      "text/plain": [
       "<Figure size 432x288 with 2 Axes>"
      ]
     },
     "metadata": {},
     "output_type": "display_data"
    }
   ],
   "source": [
    "plt.imshow(img)\n",
    "plt.imshow(np.array(img_sal), alpha=0.5, cmap=\"jet\")\n",
    "plt.colorbar()"
   ]
  },
  {
   "cell_type": "code",
   "execution_count": 77,
   "metadata": {},
   "outputs": [
    {
     "name": "stderr",
     "output_type": "stream",
     "text": [
      "Clipping input data to the valid range for imshow with RGB data ([0..1] for floats or [0..255] for integers).\n"
     ]
    },
    {
     "data": {
      "text/plain": [
       "<matplotlib.image.AxesImage at 0x7fb8b441ee48>"
      ]
     },
     "execution_count": 77,
     "metadata": {},
     "output_type": "execute_result"
    },
    {
     "data": {
      "image/png": "[encoded data removed]",
      "text/plain": [
       "<Figure size 432x288 with 1 Axes>"
      ]
     },
     "metadata": {},
     "output_type": "display_data"
    }
   ],
   "source": [
    "plt.imshow(img)"
   ]
  },
  {
   "cell_type": "code",
   "execution_count": 78,
   "metadata": {},
   "outputs": [
    {
     "data": {
      "text/plain": [
       "tensor([[0.8982, 0.0386]], device='cuda:0', grad_fn=<TopkBackward>)"
      ]
     },
     "execution_count": 78,
     "metadata": {},
     "output_type": "execute_result"
    }
   ],
   "source": [
    "pp"
   ]
  },
  {
   "cell_type": "code",
   "execution_count": 79,
   "metadata": {},
   "outputs": [
    {
     "data": {
      "text/plain": [
       "tensor([[8, 1]], device='cuda:0')"
      ]
     },
     "execution_count": 79,
     "metadata": {},
     "output_type": "execute_result"
    }
   ],
   "source": [
    "cc"
   ]
  },
  {
   "cell_type": "code",
   "execution_count": 80,
   "metadata": {},
   "outputs": [
    {
     "data": {
      "text/plain": [
       "array([[2.1339295, 2.0845509, 1.806377 , 1.7703371],\n",
       "       [1.7619873, 1.8338591, 1.9091606, 1.639981 ],\n",
       "       [1.7279621, 1.9624796, 1.8611302, 1.8431762],\n",
       "       [1.7504196, 1.7520065, 1.9041555, 2.3441622]], dtype=float32)"
      ]
     },
     "execution_count": 80,
     "metadata": {},
     "output_type": "execute_result"
    }
   ],
   "source": [
    "sal"
   ]
  },
  {
   "cell_type": "code",
   "execution_count": 81,
   "metadata": {},
   "outputs": [
    {
     "data": {
      "text/plain": [
       "tensor([[  97.1153,  100.4200,  -62.0961, -227.8316, -154.8898,   74.6305,\n",
       "          -25.0145,  149.4408,   31.0311,  -69.0499]],\n",
       "       device='cuda:0', grad_fn=<ThAddmmBackward>)"
      ]
     },
     "execution_count": 81,
     "metadata": {},
     "output_type": "execute_result"
    }
   ],
   "source": [
    "out"
   ]
  },
  {
   "cell_type": "code",
   "execution_count": 82,
   "metadata": {},
   "outputs": [
    {
     "data": {
      "text/plain": [
       "tensor(31.0311, device='cuda:0', grad_fn=<SelectBackward>)"
      ]
     },
     "execution_count": 82,
     "metadata": {},
     "output_type": "execute_result"
    }
   ],
   "source": [
    "c_score"
   ]
  },
  {
   "cell_type": "code",
   "execution_count": 83,
   "metadata": {},
   "outputs": [
    {
     "data": {
      "text/plain": [
       "(tensor([[[[-8.4553e-03, -2.6376e-02, -1.2117e-02, -5.2571e-03],\n",
       "           [-1.9298e-02,  6.0325e-03,  1.1259e-03,  1.3818e-02],\n",
       "           [ 5.9146e-03, -1.3835e-02, -1.4098e-02, -1.4615e-03],\n",
       "           [-4.2340e-03,  2.3146e-02,  1.5636e-02,  6.8223e-03]],\n",
       " \n",
       "          [[-2.3439e-02,  3.8609e-03,  1.4817e-02,  1.2491e-02],\n",
       "           [-1.0532e-03, -9.2252e-04, -4.6461e-04,  2.2978e-02],\n",
       "           [ 2.0060e-03,  1.1801e-02, -2.8646e-02, -2.4795e-02],\n",
       "           [-2.3465e-02,  2.1462e-02,  1.6531e-02,  9.7103e-03]],\n",
       " \n",
       "          [[ 1.7858e-02,  2.0798e-02, -9.9797e-04,  2.1265e-02],\n",
       "           [ 3.9654e-02,  2.4899e-02, -3.0296e-02,  3.4101e-02],\n",
       "           [ 3.5956e-02,  5.7739e-03,  1.3404e-02,  2.7916e-02],\n",
       "           [ 3.8599e-02,  3.6018e-02,  4.2184e-02,  3.6232e-02]],\n",
       " \n",
       "          [[ 1.4630e-02,  1.2828e-02, -2.4814e-03,  2.9228e-02],\n",
       "           [-5.9004e-03, -4.9553e-03,  1.3431e-02,  3.1798e-04],\n",
       "           [ 1.0032e-02,  1.7406e-02,  2.5357e-02,  3.0635e-02],\n",
       "           [ 1.3803e-02, -9.7558e-03, -9.0001e-04,  3.6830e-02]],\n",
       " \n",
       "          [[-1.4820e-02,  3.8058e-04, -4.5700e-03, -1.8441e-02],\n",
       "           [ 9.5496e-04,  1.1480e-02,  1.3282e-02,  4.9856e-04],\n",
       "           [ 5.4105e-03, -2.3514e-02,  1.3791e-02,  1.1587e-02],\n",
       "           [ 5.1074e-02, -1.0493e-02, -4.0499e-03, -1.7853e-02]],\n",
       " \n",
       "          [[ 1.3795e-02,  5.5557e-03,  1.2526e-02,  3.3772e-02],\n",
       "           [-3.0084e-03,  9.9120e-03,  2.1951e-03,  9.1362e-03],\n",
       "           [ 8.0348e-03, -1.7275e-02, -2.4654e-02, -9.6507e-03],\n",
       "           [-5.5838e-03, -9.7443e-03, -1.5016e-02,  3.1400e-03]],\n",
       " \n",
       "          [[ 5.5092e-02,  3.5249e-02,  2.1070e-02, -4.6621e-03],\n",
       "           [ 3.8015e-02,  1.7000e-02,  1.4907e-02,  3.0466e-03],\n",
       "           [ 5.8514e-02,  1.2618e-02, -3.7277e-04,  1.9955e-02],\n",
       "           [ 2.5441e-02,  2.6579e-02,  1.6461e-02,  3.4404e-02]],\n",
       " \n",
       "          [[ 2.3326e-02,  4.0989e-04,  2.6796e-02, -1.1805e-02],\n",
       "           [ 3.4007e-02,  4.0984e-02,  3.3267e-02,  3.1830e-02],\n",
       "           [ 8.5022e-03,  3.6096e-02,  3.8795e-02,  1.9026e-02],\n",
       "           [ 5.2664e-02,  4.5281e-02,  2.5254e-02,  1.6163e-02]],\n",
       " \n",
       "          [[ 2.0210e-02,  2.0688e-02,  2.3499e-02, -1.8924e-02],\n",
       "           [ 1.1172e-02, -1.7598e-04,  2.3546e-03,  1.2134e-02],\n",
       "           [ 2.3314e-02,  1.1854e-02,  3.9823e-02,  9.4726e-03],\n",
       "           [ 3.8538e-03,  2.0983e-02,  2.5970e-02, -9.1020e-03]],\n",
       " \n",
       "          [[ 6.3858e-03,  6.5258e-03,  2.4650e-02,  1.4887e-02],\n",
       "           [ 5.3232e-02,  9.0537e-03,  4.9050e-02, -1.2716e-02],\n",
       "           [-3.3790e-03,  1.0747e-02,  6.5959e-03,  3.3984e-02],\n",
       "           [ 7.2051e-03, -2.2822e-03,  1.4377e-02,  6.9972e-03]],\n",
       " \n",
       "          [[-2.7563e-03,  3.1206e-02,  1.2019e-02,  7.5923e-03],\n",
       "           [ 3.0631e-02,  2.1579e-03, -5.0567e-04,  9.7955e-03],\n",
       "           [-1.1075e-03, -2.3579e-02, -3.3577e-03,  2.2609e-03],\n",
       "           [ 1.8179e-02, -1.6707e-02,  4.9577e-02,  1.7297e-02]],\n",
       " \n",
       "          [[ 1.4996e-02, -9.8038e-03,  7.4099e-03,  4.9673e-02],\n",
       "           [ 1.2803e-03,  4.3778e-04,  4.1677e-02,  2.2374e-02],\n",
       "           [ 4.4705e-02,  1.4215e-02,  2.7428e-02,  3.2174e-02],\n",
       "           [-2.1240e-02,  2.8006e-02,  3.2111e-02,  3.0103e-02]],\n",
       " \n",
       "          [[-5.8648e-04, -9.1565e-03,  4.6279e-03,  3.6023e-02],\n",
       "           [ 3.7952e-02,  2.3779e-02, -5.4611e-03,  3.6245e-02],\n",
       "           [ 3.6230e-02,  4.2481e-02,  1.4732e-02,  1.8455e-02],\n",
       "           [ 4.0827e-02,  1.2657e-02,  3.7280e-02,  1.4162e-02]],\n",
       " \n",
       "          [[ 4.8902e-02,  1.3033e-02, -2.0862e-03,  3.3565e-02],\n",
       "           [ 3.5385e-02, -2.2578e-02,  1.2019e-02, -1.2170e-02],\n",
       "           [-5.4122e-03,  8.6966e-03, -8.6792e-04, -1.0785e-02],\n",
       "           [ 2.5582e-02,  4.0417e-03,  5.6775e-03,  1.5977e-02]],\n",
       " \n",
       "          [[ 1.3207e-02,  4.1912e-02,  2.4593e-02,  3.7975e-02],\n",
       "           [ 7.4856e-03,  3.8173e-02,  1.7556e-02, -5.4234e-03],\n",
       "           [ 2.0272e-02,  4.8139e-02,  4.2300e-02,  6.0439e-03],\n",
       "           [ 3.6551e-02,  4.2875e-02, -5.8145e-03,  1.4087e-02]],\n",
       " \n",
       "          [[ 2.1376e-02,  2.5552e-02, -1.1906e-02, -5.9298e-03],\n",
       "           [ 2.0172e-02, -7.1492e-03,  4.8817e-02, -1.6218e-02],\n",
       "           [-7.1906e-03, -5.3139e-03, -1.0200e-02, -2.1524e-03],\n",
       "           [ 2.4562e-02,  3.0720e-02,  2.9117e-02,  2.8239e-02]],\n",
       " \n",
       "          [[-1.5130e-02,  3.9980e-02,  2.4831e-02,  2.3765e-02],\n",
       "           [ 3.1574e-02,  2.0811e-02,  4.1787e-02,  1.9892e-02],\n",
       "           [ 2.0559e-02,  2.3100e-02,  2.2507e-02,  4.7972e-03],\n",
       "           [ 2.8489e-02,  4.2326e-02,  1.7980e-02,  2.3067e-02]],\n",
       " \n",
       "          [[ 1.7188e-02,  4.1305e-02,  3.1223e-02, -4.3657e-03],\n",
       "           [ 5.5303e-02,  1.8537e-02,  1.7389e-02,  3.7560e-02],\n",
       "           [ 3.8229e-02,  9.3333e-03,  1.5553e-02,  1.1806e-02],\n",
       "           [ 1.1180e-02,  4.1929e-02,  3.7440e-02,  3.4284e-02]],\n",
       " \n",
       "          [[ 1.2638e-02,  3.6344e-02,  2.9196e-02,  1.3324e-02],\n",
       "           [ 1.0590e-02,  3.8662e-02, -3.1816e-02,  1.3283e-03],\n",
       "           [-1.8196e-02,  3.7033e-02, -2.2176e-02,  5.0504e-04],\n",
       "           [-1.5356e-02,  2.1893e-02, -6.3101e-04, -5.4015e-03]],\n",
       " \n",
       "          [[ 2.0428e-02,  2.0221e-02,  1.7847e-02,  3.3298e-03],\n",
       "           [ 4.1165e-02,  1.9178e-02,  1.6810e-02,  1.0765e-02],\n",
       "           [-3.2508e-02,  3.1504e-02, -2.7989e-02, -6.2903e-03],\n",
       "           [ 2.2322e-02, -4.4164e-03,  1.5315e-02,  8.7131e-03]],\n",
       " \n",
       "          [[ 4.3438e-03, -1.2196e-02,  7.6882e-03,  1.8314e-02],\n",
       "           [ 1.1557e-03, -6.5666e-03, -7.3045e-03, -1.4431e-02],\n",
       "           [-4.1282e-03,  3.3928e-02, -6.6842e-03,  1.7238e-02],\n",
       "           [ 5.2483e-03, -5.9690e-03, -1.3306e-02,  1.7635e-02]],\n",
       " \n",
       "          [[ 3.0306e-02, -5.7222e-03,  6.9737e-03, -3.7058e-02],\n",
       "           [ 1.4401e-02, -4.1916e-03,  2.4952e-02, -3.1286e-02],\n",
       "           [-3.6255e-02, -1.7794e-02,  2.4759e-02,  7.1238e-03],\n",
       "           [ 9.4446e-03,  2.6133e-02,  3.1471e-02,  3.2717e-02]],\n",
       " \n",
       "          [[-1.8672e-03,  6.6664e-03, -1.7966e-02, -2.4236e-03],\n",
       "           [-6.9282e-03,  7.2136e-03,  2.6132e-02, -1.2673e-02],\n",
       "           [-3.2251e-02, -1.1306e-02,  2.9670e-03, -1.2150e-02],\n",
       "           [ 4.7274e-03, -5.8142e-04,  5.1572e-06,  1.3154e-02]],\n",
       " \n",
       "          [[ 3.3642e-02, -1.4080e-02,  1.1955e-02,  1.7428e-02],\n",
       "           [ 1.3216e-03,  5.4679e-03,  2.9902e-02, -8.1529e-03],\n",
       "           [ 2.6515e-04, -1.6998e-03,  2.1260e-03,  1.3633e-02],\n",
       "           [-1.9884e-02,  1.3442e-03,  2.9043e-02, -2.2405e-02]],\n",
       " \n",
       "          [[ 1.6886e-02, -2.1187e-03, -7.1277e-03,  4.4192e-03],\n",
       "           [-5.9328e-03, -5.6755e-03, -4.2453e-04, -1.9585e-02],\n",
       "           [-1.9438e-03,  1.4518e-03,  3.4088e-03,  2.3354e-03],\n",
       "           [ 4.5941e-02,  2.1760e-02,  1.8224e-02,  2.3166e-02]],\n",
       " \n",
       "          [[ 2.3622e-02, -1.2037e-02, -6.4530e-03, -2.1799e-02],\n",
       "           [ 1.9556e-02, -8.4975e-03,  2.3373e-02,  8.4442e-03],\n",
       "           [ 6.7603e-03,  4.4581e-03,  1.3175e-02,  3.2806e-02],\n",
       "           [ 1.9969e-02,  3.8773e-02,  2.2029e-02,  4.4379e-02]],\n",
       " \n",
       "          [[ 2.1624e-02, -1.3084e-02,  1.3286e-02,  1.8728e-02],\n",
       "           [-9.7985e-03,  2.6944e-02,  3.1361e-03, -2.7074e-03],\n",
       "           [-8.2152e-03,  3.3874e-02,  7.1657e-03,  3.8691e-03],\n",
       "           [ 2.6512e-04,  2.4721e-03,  1.4635e-02,  6.3185e-03]],\n",
       " \n",
       "          [[ 7.6193e-03,  1.5367e-02,  2.8648e-02,  3.9187e-02],\n",
       "           [ 9.5399e-03,  2.1149e-02, -9.8452e-05,  1.7262e-02],\n",
       "           [-1.1482e-02,  3.9522e-02,  1.1128e-02,  4.5393e-02],\n",
       "           [ 2.1500e-02,  4.5290e-02,  2.2306e-02,  3.7691e-02]],\n",
       " \n",
       "          [[ 7.7552e-03,  1.5109e-03,  1.2314e-02,  1.6380e-02],\n",
       "           [ 1.0684e-02,  2.3508e-02,  2.2915e-02,  2.5323e-02],\n",
       "           [ 1.1091e-03, -1.5468e-03,  2.1017e-02,  1.9900e-02],\n",
       "           [-8.5850e-04, -5.5222e-03,  2.1550e-02,  1.0023e-02]],\n",
       " \n",
       "          [[ 1.3214e-03,  1.2118e-02,  3.0616e-02, -3.0097e-02],\n",
       "           [ 2.1781e-02,  6.1283e-03,  1.6358e-02,  2.0975e-02],\n",
       "           [-4.0202e-03, -1.1154e-02,  2.5742e-03,  1.5395e-02],\n",
       "           [ 1.1882e-02, -1.8388e-02,  1.6363e-02,  2.0021e-02]],\n",
       " \n",
       "          [[-4.5333e-03, -1.0288e-02,  1.0992e-02,  4.4064e-02],\n",
       "           [ 7.2615e-03,  2.5330e-02, -2.6667e-02, -5.8905e-03],\n",
       "           [ 8.6611e-03,  1.1145e-02,  2.0268e-02, -2.3991e-03],\n",
       "           [-1.2174e-02,  2.3404e-02,  2.4546e-02,  1.8298e-02]],\n",
       " \n",
       "          [[-1.5857e-03,  4.3084e-03,  7.3609e-03, -1.3777e-02],\n",
       "           [ 1.1141e-02,  1.1169e-02,  1.0773e-02, -9.5498e-03],\n",
       "           [ 2.8132e-03,  9.5230e-03, -1.9668e-02, -8.0794e-04],\n",
       "           [-1.3263e-03, -2.3179e-04,  4.1486e-02,  1.2647e-02]]]],\n",
       "        device='cuda:0'),)"
      ]
     },
     "execution_count": 83,
     "metadata": {},
     "output_type": "execute_result"
    }
   ],
   "source": [
    "grads"
   ]
  },
  {
   "cell_type": "code",
   "execution_count": 84,
   "metadata": {},
   "outputs": [
    {
     "data": {
      "text/plain": [
       "tensor([-0.0020,  0.0008,  0.0227,  0.0113,  0.0009,  0.0008,  0.0233,  0.0263,\n",
       "         0.0123,  0.0141,  0.0083,  0.0197,  0.0213,  0.0093,  0.0237,  0.0102,\n",
       "         0.0231,  0.0259,  0.0067,  0.0098,  0.0022,  0.0047, -0.0023,  0.0050,\n",
       "         0.0059,  0.0130,  0.0074,  0.0219,  0.0116,  0.0070,  0.0083,  0.0040],\n",
       "       device='cuda:0')"
      ]
     },
     "execution_count": 84,
     "metadata": {},
     "output_type": "execute_result"
    }
   ],
   "source": [
    "w"
   ]
  },
  {
   "cell_type": "code",
   "execution_count": null,
   "metadata": {},
   "outputs": [],
   "source": [
    " "
   ]
  },
  {
   "cell_type": "code",
   "execution_count": null,
   "metadata": {},
   "outputs": [],
   "source": []
  }
 ],
 "metadata": {
  "kernelspec": {
   "display_name": "Python 3",
   "language": "python",
   "name": "python3"
  },
  "language_info": {
   "codemirror_mode": {
    "name": "ipython",
    "version": 3
   },
   "file_extension": ".py",
   "mimetype": "text/x-python",
   "name": "python",
   "nbconvert_exporter": "python",
   "pygments_lexer": "ipython3",
   "version": "3.5.2"
  }
 },
 "nbformat": 4,
 "nbformat_minor": 2
}
